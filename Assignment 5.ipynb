{
 "cells": [
  {
   "cell_type": "markdown",
   "id": "1fc95a7b",
   "metadata": {},
   "source": [
    "# Challenge 1: Square Numbers and Return Their Sum"
   ]
  },
  {
   "cell_type": "code",
   "execution_count": 1,
   "id": "b3377d51",
   "metadata": {},
   "outputs": [
    {
     "name": "stdout",
     "output_type": "stream",
     "text": [
      "35\n"
     ]
    }
   ],
   "source": [
    "class Point:\n",
    "\n",
    "    def __init__(self, x, y, z):\n",
    "        self.x = x\n",
    "        self.y = y\n",
    "        self.z = z\n",
    "\n",
    "    def sqSum(self):\n",
    "        return self.x**2 + self.y**2 + self.z**2\n",
    "\n",
    "point = Point(1, 3, 5)  # Create an instance of the Point class\n",
    "\n",
    "# Calculate the squared sum of x, y, and z\n",
    "result = point.sqSum()\n",
    "print(result)\n"
   ]
  },
  {
   "cell_type": "markdown",
   "id": "8ef9686e",
   "metadata": {},
   "source": [
    "# Challenge 2: Implement a Calculator Class"
   ]
  },
  {
   "cell_type": "code",
   "execution_count": 2,
   "id": "53bfc26f",
   "metadata": {},
   "outputs": [
    {
     "name": "stdout",
     "output_type": "stream",
     "text": [
      "104\n",
      "84\n",
      "940\n",
      "9.4\n"
     ]
    }
   ],
   "source": [
    "class Calculator:\n",
    "\n",
    "    def __init__(self, num1, num2):\n",
    "        self.num1 = num1\n",
    "        self.num2 = num2\n",
    "\n",
    "    def add(self):\n",
    "        return self.num1 + self.num2\n",
    "\n",
    "    def subtract(self):\n",
    "        return self.num2 - self.num1\n",
    "\n",
    "    def multiply(self):\n",
    "        return self.num1 * self.num2\n",
    "\n",
    "    def divide(self):\n",
    "        if self.num1 == 0:\n",
    "            return \"Cannot divide by zero\"\n",
    "        return self.num2 / self.num1\n",
    "    \n",
    "    # Create an instance of the Calculator class\n",
    "obj = Calculator(10, 94)\n",
    "\n",
    "# Perform calculations using the methods\n",
    "add_result = obj.add()\n",
    "subtract_result = obj.subtract()\n",
    "multiply_result = obj.multiply()\n",
    "divide_result = obj.divide()\n",
    "\n",
    "# Print the results\n",
    "print(add_result)       \n",
    "print(subtract_result)  \n",
    "print(multiply_result)  \n",
    "print(divide_result)   \n"
   ]
  },
  {
   "cell_type": "markdown",
   "id": "f4418f7f",
   "metadata": {},
   "source": [
    "# Challenge 3: Implement the Complete Student Class"
   ]
  },
  {
   "cell_type": "code",
   "execution_count": 3,
   "id": "6588c6ff",
   "metadata": {},
   "outputs": [
    {
     "name": "stdout",
     "output_type": "stream",
     "text": [
      "Vini\n",
      "12345\n"
     ]
    }
   ],
   "source": [
    "class Student:\n",
    "\n",
    "    def setName(self, name):\n",
    "        self.__name = name\n",
    "\n",
    "    def getName(self):\n",
    "        return self.__name\n",
    "\n",
    "    def setRollNumber(self, rollNumber):\n",
    "        self.__rollNumber = rollNumber\n",
    "\n",
    "    def getRollNumber(self):\n",
    "        return self.__rollNumber\n",
    "\n",
    "# Create an instance of the Student class\n",
    "student = Student()\n",
    "\n",
    "# Set student's name and roll number using setter methods\n",
    "student.setName(\"Vini\")\n",
    "student.setRollNumber(\"12345\")\n",
    "\n",
    "# Get and print student's name and roll number using getter methods\n",
    "print(student.getName())       \n",
    "print(student.getRollNumber()) \n"
   ]
  },
  {
   "cell_type": "markdown",
   "id": "bffa539c",
   "metadata": {},
   "source": [
    "# Challenge 4: Implement a Banking Account"
   ]
  },
  {
   "cell_type": "code",
   "execution_count": 4,
   "id": "29b80cdb",
   "metadata": {},
   "outputs": [
    {
     "name": "stdout",
     "output_type": "stream",
     "text": [
      "Ashish\n",
      "5000\n",
      "5\n"
     ]
    }
   ],
   "source": [
    "class Account:\n",
    "\n",
    "    def __init__(self, title=None, balance=0):\n",
    "        self.title = title\n",
    "        self.balance = balance\n",
    "\n",
    "class SavingsAccount(Account):\n",
    "\n",
    "    def __init__(self, title=None, balance=0, interestRate=0):\n",
    "        super().__init__(title, balance)\n",
    "        self.interestRate = interestRate\n",
    "\n",
    "# Create an instance of the SavingsAccount class\n",
    "savings_account = SavingsAccount(\"Ashish\", 5000, 5)\n",
    "\n",
    "# Access properties of the SavingsAccount instance\n",
    "print(savings_account.title)         \n",
    "print(savings_account.balance)       \n",
    "print(savings_account.interestRate)\n"
   ]
  },
  {
   "cell_type": "markdown",
   "id": "18c546ad",
   "metadata": {},
   "source": [
    "# Challenge 5: Handling a Bank Account"
   ]
  },
  {
   "cell_type": "code",
   "execution_count": 8,
   "id": "04987349",
   "metadata": {},
   "outputs": [
    {
     "name": "stdout",
     "output_type": "stream",
     "text": [
      "2500\n",
      "1500\n",
      "100\n"
     ]
    }
   ],
   "source": [
    "class Account:\n",
    "    def __init__(self, title=None, balance=0):\n",
    "        self.title = title\n",
    "        self.balance = balance\n",
    "    \n",
    "    def withdrawal(self, amount):\n",
    "        self.balance -= amount\n",
    "\n",
    "    def deposit(self, amount):\n",
    "        self.balance += amount\n",
    "\n",
    "    def getBalance(self):\n",
    "        return self.balance\n",
    "\n",
    "class SavingsAccount(Account):\n",
    "    def __init__(self, title=None, balance=0, interestRate=0):\n",
    "        super().__init__(title, balance)\n",
    "        self.interestRate = interestRate\n",
    "    \n",
    "    def interestAmount(self):\n",
    "        return (self.balance * self.interestRate) / 100\n",
    "\n",
    "# Initialize a SavingsAccount object\n",
    "demo1 = SavingsAccount(\"Ashish\", 2000, 5)\n",
    "\n",
    "# Perform operations using the methods             \n",
    "demo1.deposit(500)\n",
    "print(demo1.getBalance())      \n",
    "demo1.withdrawal(1000)\n",
    "print(demo1.getBalance())    \n",
    "\n",
    "demo1 = SavingsAccount(\"Ashish\", 2000, 5)\n",
    "interest = int(demo1.interestAmount())\n",
    "print(interest)               "
   ]
  },
  {
   "cell_type": "code",
   "execution_count": null,
   "id": "3e272a81",
   "metadata": {},
   "outputs": [],
   "source": []
  }
 ],
 "metadata": {
  "kernelspec": {
   "display_name": "Python 3 (ipykernel)",
   "language": "python",
   "name": "python3"
  },
  "language_info": {
   "codemirror_mode": {
    "name": "ipython",
    "version": 3
   },
   "file_extension": ".py",
   "mimetype": "text/x-python",
   "name": "python",
   "nbconvert_exporter": "python",
   "pygments_lexer": "ipython3",
   "version": "3.10.9"
  }
 },
 "nbformat": 4,
 "nbformat_minor": 5
}
